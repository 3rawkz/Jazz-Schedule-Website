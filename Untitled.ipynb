{
 "cells": [
  {
   "cell_type": "code",
   "execution_count": 3,
   "metadata": {
    "collapsed": true
   },
   "outputs": [],
   "source": [
    "from bs4 import BeautifulSoup\n",
    "import requests"
   ]
  },
  {
   "cell_type": "code",
   "execution_count": 22,
   "metadata": {
    "collapsed": false
   },
   "outputs": [],
   "source": [
    "r = requests.get('http://www.55bar.com/cgi-bin/webdata_playinPrint.pl?cgifunction=Search&GigDate=%3E%3D10/17/2015')"
   ]
  },
  {
   "cell_type": "code",
   "execution_count": null,
   "metadata": {
    "collapsed": true
   },
   "outputs": [],
   "source": [
    "r.text"
   ]
  },
  {
   "cell_type": "code",
   "execution_count": 25,
   "metadata": {
    "collapsed": false
   },
   "outputs": [],
   "source": [
    "soup = BeautifulSoup(r.text, 'html.parser')"
   ]
  },
  {
   "cell_type": "code",
   "execution_count": 77,
   "metadata": {
    "collapsed": false
   },
   "outputs": [
    {
     "data": {
      "text/plain": [
       "u'10/17/15'"
      ]
     },
     "execution_count": 77,
     "metadata": {},
     "output_type": "execute_result"
    }
   ],
   "source": [
    "soup.findAll('table')[0].script.text[8:16]"
   ]
  },
  {
   "cell_type": "code",
   "execution_count": 76,
   "metadata": {
    "collapsed": false
   },
   "outputs": [
    {
     "data": {
      "text/plain": [
       "u'Early Show - 6pm'"
      ]
     },
     "execution_count": 76,
     "metadata": {},
     "output_type": "execute_result"
    }
   ],
   "source": [
    "soup.findAll('table')[0].findAll('br')[0].font.text"
   ]
  },
  {
   "cell_type": "code",
   "execution_count": 81,
   "metadata": {
    "collapsed": false
   },
   "outputs": [
    {
     "data": {
      "text/plain": [
       "u'Hope Debates(Voice), Brad Shepik(Guitar), Scott Colberg(Bass), Jon Graboff(Pedal Steel), Diego Voglino(Drums)'"
      ]
     },
     "execution_count": 81,
     "metadata": {},
     "output_type": "execute_result"
    }
   ],
   "source": [
    "soup.findAll('table')[0].findAll('br')[1].text[1:-1]"
   ]
  },
  {
   "cell_type": "code",
   "execution_count": 253,
   "metadata": {
    "collapsed": false
   },
   "outputs": [],
   "source": [
    "def fifetyfive_get_shows(soup, date):\n",
    "    tables = soup.findAll('table')[:-1]\n",
    "    tables = [tables[i] for i in range(len(tables)) if (date in tables[i].text and i%3==0)]\n",
    "    show_list = []\n",
    "    for table in tables:\n",
    "        date = table.script.text[8:16]\n",
    "        time = table.findAll('font')[0].text\n",
    "        time = ''.join([i for i in time if i.isdigit()])\n",
    "        fin = table.findAll('font')[1].text.split('\\n')\n",
    "        fin = [i for i in fin if not i.isspace() and i]\n",
    "        if len(fin)==0:\n",
    "            group='TBA'\n",
    "            musicians='TBA'\n",
    "        if len(fin)==1:\n",
    "            group = fin[0]\n",
    "            musicians = 'TBA'\n",
    "        if len(fin)>1:\n",
    "            group = fin[0]\n",
    "            musicians = fin[1]\n",
    "        show_list.append((date,time,group,musicians))\n",
    "    return show_list"
   ]
  },
  {
   "cell_type": "code",
   "execution_count": 254,
   "metadata": {
    "collapsed": false
   },
   "outputs": [],
   "source": [
    "x=fifetyfive_get_shows(soup, '10/18/15')"
   ]
  },
  {
   "cell_type": "code",
   "execution_count": 255,
   "metadata": {
    "collapsed": false
   },
   "outputs": [
    {
     "data": {
      "text/plain": [
       "[(u'10/18/15', u'6', u'Ray Anderson', 'TBA'),\n",
       " (u'10/18/15',\n",
       "  u'930',\n",
       "  u'Gabriela Anders & The Latin Jazz Sextet',\n",
       "  u'Ole Mathieson(Tenor Saxophone), Chris Washburne(Trombone), Alex Brown(Piano), Renato Thoms(Percussion), Bobby Sanabria(Drums)')]"
      ]
     },
     "execution_count": 255,
     "metadata": {},
     "output_type": "execute_result"
    }
   ],
   "source": [
    "x"
   ]
  },
  {
   "cell_type": "code",
   "execution_count": 240,
   "metadata": {
    "collapsed": false
   },
   "outputs": [],
   "source": [
    "tables = soup.findAll('table')[:-1]\n",
    "tables = [tables[i] for i in range(len(tables)) if ('10/17/15' in tables[i].text and i%3==0)]"
   ]
  },
  {
   "cell_type": "code",
   "execution_count": 257,
   "metadata": {
    "collapsed": false
   },
   "outputs": [],
   "source": [
    "date = '2015-10-17'.split('-')"
   ]
  },
  {
   "cell_type": "code",
   "execution_count": 236,
   "metadata": {
    "collapsed": false
   },
   "outputs": [
    {
     "data": {
      "text/plain": [
       "True"
      ]
     },
     "execution_count": 236,
     "metadata": {},
     "output_type": "execute_result"
    }
   ],
   "source": [
    "'10/17/15' in tables[0].text"
   ]
  },
  {
   "cell_type": "code",
   "execution_count": 193,
   "metadata": {
    "collapsed": false
   },
   "outputs": [],
   "source": [
    "time = soup.findAll('table')[9].findAll('font')[0].text"
   ]
  },
  {
   "cell_type": "code",
   "execution_count": 194,
   "metadata": {
    "collapsed": false
   },
   "outputs": [
    {
     "data": {
      "text/plain": [
       "u'930'"
      ]
     },
     "execution_count": 194,
     "metadata": {},
     "output_type": "execute_result"
    }
   ],
   "source": [
    "''.join([i for i in time if i.isdigit()])"
   ]
  },
  {
   "cell_type": "code",
   "execution_count": null,
   "metadata": {
    "collapsed": true
   },
   "outputs": [],
   "source": []
  }
 ],
 "metadata": {
  "kernelspec": {
   "display_name": "Python 2",
   "language": "python",
   "name": "python2"
  },
  "language_info": {
   "codemirror_mode": {
    "name": "ipython",
    "version": 2
   },
   "file_extension": ".py",
   "mimetype": "text/x-python",
   "name": "python",
   "nbconvert_exporter": "python",
   "pygments_lexer": "ipython2",
   "version": "2.7.10"
  }
 },
 "nbformat": 4,
 "nbformat_minor": 0
}
